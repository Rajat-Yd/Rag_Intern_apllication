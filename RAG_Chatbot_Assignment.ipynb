{
  "nbformat": 4,
  "nbformat_minor": 0,
  "metadata": {
    "colab": {
      "private_outputs": true,
      "provenance": [],
      "gpuType": "T4",
      "authorship_tag": "ABX9TyMNh0MG5y8PyIKobZhB6dtf",
      "include_colab_link": true
    },
    "kernelspec": {
      "name": "python3",
      "display_name": "Python 3"
    },
    "language_info": {
      "name": "python"
    },
    "accelerator": "GPU"
  },
  "cells": [
    {
      "cell_type": "markdown",
      "metadata": {
        "id": "view-in-github",
        "colab_type": "text"
      },
      "source": [
        "<a href=\"https://colab.research.google.com/github/Rajat-Yd/Rag_Intern_apllication/blob/main/RAG_Chatbot_Assignment.ipynb\" target=\"_parent\"><img src=\"https://colab.research.google.com/assets/colab-badge.svg\" alt=\"Open In Colab\"/></a>"
      ]
    },
    {
      "cell_type": "markdown",
      "source": [
        "# **NOTE:**\n",
        "\n",
        "I have used **all-MiniLM-L6-v2** an open source model from hugging face.\n",
        "\n",
        "# **Reason for not using ChatGpt is my Billing issue:**\n",
        "\n",
        "**\"RateLimitError: Error code: 429 -**\n",
        "{'error': {'message': 'You exceeded your current quota, please check your plan and billing details. For more information on this error, read the docs: https://platform.openai.com/docs/guides/error-codes/api-errors.', 'type': 'insufficient_quota', 'param': None, 'code': 'insufficient_quota'}}"
      ],
      "metadata": {
        "id": "pnGAQF0A71Gf"
      }
    },
    {
      "cell_type": "markdown",
      "source": [
        "# **Library Installation**\n",
        "\n",
        "1. transformers\n",
        "Purpose: Provides pre-trained models and tools for natural language processing (NLP) tasks.\n",
        "Example Models: BERT, GPT, GPT-3, T5.\n",
        "\n",
        "2. sentence-transformers\n",
        "Purpose: Builds and applies sentence embeddings (numerical representations of text).\n",
        " (Sentence-BERT).\n",
        "3. faiss-cpu\n",
        "Purpose: A library for efficient similarity search and clustering of dense vectors.\n",
        "\n",
        "4. pandas\n",
        "Purpose: A library for data analysis and manipulation.\n",
        "\n",
        "5. pyngrok\n",
        "Purpose: Provides a Python interface for ngrok, a tool to expose local servers to the internet.\n",
        "Usage: Helps share local projects (e.g., Streamlit apps) with secure public URLs."
      ],
      "metadata": {
        "id": "BkbxfIYS0zkv"
      }
    },
    {
      "cell_type": "code",
      "source": [
        "!pip install transformers sentence-transformers faiss-cpu pandas\n",
        "!pip install streamlit\n",
        "!pip install pyngrok"
      ],
      "metadata": {
        "id": "ChHzEcEXZ2AE"
      },
      "execution_count": null,
      "outputs": []
    },
    {
      "cell_type": "markdown",
      "source": [
        "# **Importing Module's and libraries**"
      ],
      "metadata": {
        "id": "haXKgnAb1n5n"
      }
    },
    {
      "cell_type": "code",
      "source": [
        "from transformers import pipeline, AutoTokenizer, AutoModelForSeq2SeqLM\n",
        "from sentence_transformers import SentenceTransformer\n",
        "import faiss\n",
        "import pandas as pd"
      ],
      "metadata": {
        "id": "2t7_LA4-Z8Vp"
      },
      "execution_count": null,
      "outputs": []
    },
    {
      "cell_type": "markdown",
      "source": [
        "# **Fetching Model**\n",
        "\n",
        "**model_name:**\n",
        "\n",
        "Specifies the pre-trained sentence-transformer model, all-MiniLM-L6-v2.\n",
        "Known for generating lightweight and efficient embeddings for semantic tasks.\n",
        "\n",
        "\n",
        "**SentenceTransformer:**\n",
        "\n",
        "Loads the model to create sentence embeddings.\n",
        "Example: Converts textual data into numerical vectors.\n",
        "\n",
        "**embedder.encode:**\n",
        "\n",
        "Encodes the list of answers (data[\"answer\"]) into dense embeddings.\n",
        "convert_to_tensor=True: Ensures the embeddings are returned as PyTorch tensors."
      ],
      "metadata": {
        "id": "te8PVBma2hgI"
      }
    },
    {
      "cell_type": "code",
      "source": [
        "data = pd.read_csv('knowledge_base.csv')\n",
        "\n",
        "model_name = \"all-MiniLM-L6-v2\"  # Lightweight sentence-transformer model\n",
        "embedder = SentenceTransformer(model_name)\n",
        "embeddings = embedder.encode(data[\"answer\"].tolist(), convert_to_tensor=True)\n"
      ],
      "metadata": {
        "id": "pRBCpeDiaJ7f"
      },
      "execution_count": null,
      "outputs": []
    },
    {
      "cell_type": "code",
      "source": [
        "import numpy as np\n",
        "\n",
        "# Convert embeddings to NumPy and create an index\n",
        "faiss_index = faiss.IndexFlatL2(embeddings.shape[1])  # L2 distance metric\n",
        "faiss_index.add(np.array(embeddings.cpu()))\n",
        "\n",
        "# Save questions for reference\n",
        "questions = data[\"question\"].tolist()\n"
      ],
      "metadata": {
        "id": "X1TCtNyKaNaa"
      },
      "execution_count": null,
      "outputs": []
    },
    {
      "cell_type": "markdown",
      "source": [
        "# **Function Creation to:**\n",
        "\n",
        "retrieve_answer(query, k=1):\n",
        "\n",
        "**Purpose:** Retrieves the top k most relevant answers for a given query based on similarity.\n",
        "**Parameters:**\n",
        "query: The input string for which an answer is being sought.\n",
        "k: The number of top results to retrieve (default: 1).\n",
        "\n",
        "# **Steps:**\n",
        "\n",
        "**embedder.encode:** Converts the input query into an embedding.\n",
        "faiss_index.search:\n",
        "Finds the k closest embeddings in the index using L2 distance.\n",
        "Returns distances and their indices.\n",
        "Result Construction:\n",
        "Maps the indices to their corresponding questions and answers from the dataset.\n",
        "\n",
        "**Return Value:**\n",
        "A list of tuples containing matched questions and their respective answers."
      ],
      "metadata": {
        "id": "PW5wOs2N3tJN"
      }
    },
    {
      "cell_type": "code",
      "source": [
        "def retrieve_answer(query, k=1):\n",
        "    query_embedding = embedder.encode([query], convert_to_tensor=False)\n",
        "    distances, indices = faiss_index.search(np.array(query_embedding), k)\n",
        "    return [(questions[i], data['answer'][i]) for i in indices[0]]\n"
      ],
      "metadata": {
        "id": "4hdiaCzLaR5r"
      },
      "execution_count": null,
      "outputs": []
    },
    {
      "cell_type": "code",
      "source": [
        "model_name = \"t5-small\"\n",
        "tokenizer = AutoTokenizer.from_pretrained(model_name)\n",
        "model = AutoModelForSeq2SeqLM.from_pretrained(model_name)\n"
      ],
      "metadata": {
        "id": "WfyCSiVnah7f"
      },
      "execution_count": null,
      "outputs": []
    },
    {
      "cell_type": "code",
      "source": [
        "def generate_response(query):\n",
        "    # Retrieve the most relevant answer for the given query\n",
        "    retrieved_answer = retrieve_answer(query)[0][1]\n",
        "\n",
        "    # Prepare the input text by combining the query and the retrieved answer\n",
        "    input_text = f\"question: {query} answer: {retrieved_answer}\"\n",
        "\n",
        "    # Tokenize the input text for the model\n",
        "    # - return_tensors=\"pt\": Converts the output into PyTorch tensors\n",
        "    # - max_length=512: Ensures the input does not exceed the model's maximum length\n",
        "    # - truncation=True: Truncates input text that exceeds the maximum length\n",
        "    inputs = tokenizer(input_text, return_tensors=\"pt\", max_length=512, truncation=True)\n",
        "\n",
        "    # Generate a response from the model\n",
        "    # - max_length=150: Limits the length of the generated response\n",
        "    outputs = model.generate(**inputs, max_length=150)\n",
        "\n",
        "    # Decode the model's output tokens into a human-readable string\n",
        "    # - skip_special_tokens=True: Removes special tokens like <s>, </s>, etc.\n",
        "    return tokenizer.decode(outputs[0], skip_special_tokens=True)\n"
      ],
      "metadata": {
        "id": "eIwBb7T7alC0"
      },
      "execution_count": null,
      "outputs": []
    },
    {
      "cell_type": "code",
      "source": [
        "while True:\n",
        "    # Prompt the user to input a query\n",
        "    user_query = input(\"Ask a question: \")\n",
        "\n",
        "    # Check if the user wants to exit the loop\n",
        "    if user_query.lower() == \"exit\":\n",
        "        break  # Exit the loop if the user types \"exit\"\n",
        "\n",
        "    # Generate and print the response for the user's query\n",
        "    print(\"Answer:\", generate_response(user_query))\n"
      ],
      "metadata": {
        "id": "r1IWn0bUao-G"
      },
      "execution_count": null,
      "outputs": []
    },
    {
      "cell_type": "code",
      "source": [],
      "metadata": {
        "id": "_N8oc9Xv4Y1d"
      },
      "execution_count": null,
      "outputs": []
    }
  ]
}
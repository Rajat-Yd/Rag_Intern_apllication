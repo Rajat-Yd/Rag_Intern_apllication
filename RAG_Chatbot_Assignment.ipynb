{
  "nbformat": 4,
  "nbformat_minor": 0,
  "metadata": {
    "colab": {
      "private_outputs": true,
      "provenance": [],
      "gpuType": "T4",
      "authorship_tag": "ABX9TyO5EdygW59LB3P2pnRrLDHe",
      "include_colab_link": true
    },
    "kernelspec": {
      "name": "python3",
      "display_name": "Python 3"
    },
    "language_info": {
      "name": "python"
    },
    "accelerator": "GPU"
  },
  "cells": [
    {
      "cell_type": "markdown",
      "metadata": {
        "id": "view-in-github",
        "colab_type": "text"
      },
      "source": [
        "<a href=\"https://colab.research.google.com/github/Rajat-Yd/Rag_Intern_apllication/blob/main/RAG_Chatbot_Assignment.ipynb\" target=\"_parent\"><img src=\"https://colab.research.google.com/assets/colab-badge.svg\" alt=\"Open In Colab\"/></a>"
      ]
    },
    {
      "cell_type": "code",
      "source": [
        "!pip install transformers sentence-transformers faiss-cpu pandas\n",
        "!pip install streamlit\n",
        "!pip install pyngrok"
      ],
      "metadata": {
        "id": "ChHzEcEXZ2AE"
      },
      "execution_count": null,
      "outputs": []
    },
    {
      "cell_type": "code",
      "source": [
        "from transformers import pipeline, AutoTokenizer, AutoModelForSeq2SeqLM\n",
        "from sentence_transformers import SentenceTransformer\n",
        "import faiss\n",
        "import pandas as pd"
      ],
      "metadata": {
        "id": "2t7_LA4-Z8Vp"
      },
      "execution_count": null,
      "outputs": []
    },
    {
      "cell_type": "code",
      "source": [
        "model_name = \"all-MiniLM-L6-v2\"  # Lightweight sentence-transformer model\n",
        "embedder = SentenceTransformer(model_name)\n",
        "\n",
        "embeddings = embedder.encode(data[\"answer\"].tolist(), convert_to_tensor=True)\n"
      ],
      "metadata": {
        "id": "pRBCpeDiaJ7f"
      },
      "execution_count": null,
      "outputs": []
    },
    {
      "cell_type": "code",
      "source": [
        "import numpy as np\n",
        "\n",
        "# Convert embeddings to NumPy and create an index\n",
        "faiss_index = faiss.IndexFlatL2(embeddings.shape[1])  # L2 distance metric\n",
        "faiss_index.add(np.array(embeddings.cpu()))\n",
        "\n",
        "# Save questions for reference\n",
        "questions = data[\"question\"].tolist()\n"
      ],
      "metadata": {
        "id": "X1TCtNyKaNaa"
      },
      "execution_count": null,
      "outputs": []
    },
    {
      "cell_type": "code",
      "source": [
        "def retrieve_answer(query, k=1):\n",
        "    query_embedding = embedder.encode([query], convert_to_tensor=False)\n",
        "    distances, indices = faiss_index.search(np.array(query_embedding), k)\n",
        "    return [(questions[i], data['answer'][i]) for i in indices[0]]\n"
      ],
      "metadata": {
        "id": "4hdiaCzLaR5r"
      },
      "execution_count": null,
      "outputs": []
    },
    {
      "cell_type": "code",
      "source": [
        "model_name = \"t5-small\"\n",
        "tokenizer = AutoTokenizer.from_pretrained(model_name)\n",
        "model = AutoModelForSeq2SeqLM.from_pretrained(model_name)\n"
      ],
      "metadata": {
        "id": "WfyCSiVnah7f"
      },
      "execution_count": null,
      "outputs": []
    },
    {
      "cell_type": "code",
      "source": [
        "def generate_response(query):\n",
        "    retrieved_answer = retrieve_answer(query)[0][1]\n",
        "    input_text = f\"question: {query} answer: {retrieved_answer}\"\n",
        "    inputs = tokenizer(input_text, return_tensors=\"pt\", max_length=512, truncation=True)\n",
        "    outputs = model.generate(**inputs, max_length=150)\n",
        "    return tokenizer.decode(outputs[0], skip_special_tokens=True)\n"
      ],
      "metadata": {
        "id": "eIwBb7T7alC0"
      },
      "execution_count": null,
      "outputs": []
    },
    {
      "cell_type": "code",
      "source": [
        "while True:\n",
        "    user_query = input(\"Ask a question: \")\n",
        "    if user_query.lower() == \"exit\":\n",
        "        break\n",
        "    print(\"Answer:\", generate_response(user_query))\n"
      ],
      "metadata": {
        "id": "r1IWn0bUao-G"
      },
      "execution_count": null,
      "outputs": []
    },
    {
      "cell_type": "code",
      "source": [
        "import streamlit as st\n",
        "\n",
        "st.title(\"RAG Chatbot with Hugging Face Models\")\n",
        "query = st.text_input(\"Ask your question:\")\n",
        "if query:\n",
        "    response = generate_response(query)\n",
        "    st.write(f\"Answer: {response}\")"
      ],
      "metadata": {
        "id": "FIhjVIiCfbLM"
      },
      "execution_count": null,
      "outputs": []
    },
    {
      "cell_type": "code",
      "source": [
        "!npx localtunnel --port 8501\n"
      ],
      "metadata": {
        "id": "RWZIK1RpgRXK"
      },
      "execution_count": null,
      "outputs": []
    },
    {
      "cell_type": "code",
      "source": [
        "!curl https://loca.lt/mytunnelpassword"
      ],
      "metadata": {
        "id": "eSL2gMU0gWqd"
      },
      "execution_count": null,
      "outputs": []
    },
    {
      "cell_type": "code",
      "source": [],
      "metadata": {
        "id": "qFixAc-IhI8a"
      },
      "execution_count": null,
      "outputs": []
    }
  ]
}